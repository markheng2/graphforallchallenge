{
  "nbformat": 4,
  "nbformat_minor": 0,
  "metadata": {
    "colab": {
      "name": "medialab_tigergraph_novel_drug_discovery.ipynb",
      "provenance": [],
      "collapsed_sections": []
    },
    "kernelspec": {
      "name": "python3",
      "display_name": "Python 3"
    },
    "language_info": {
      "name": "python"
    }
  },
  "cells": [
    {
      "cell_type": "code",
      "execution_count": null,
      "metadata": {
        "id": "si8hQL2fVEU_"
      },
      "outputs": [],
      "source": [
        "!pip install pytigergraph"
      ]
    },
    {
      "cell_type": "code",
      "source": [
        "import pandas as pd\n",
        "import pyTigerGraph as tg \n",
        "\n",
        "server = 'https://medialab2.i.tgcloud.io/' \n",
        "username = 'tigergraph'\n",
        "password = 'tigergraph' \n",
        "apiToken = 'mnte371fka2ug1simvi6ehi8gsq69fav'\n",
        "\n",
        "conn = tg.TigerGraphConnection(host=server, graphname='medialab', username=username, password=password, apiToken = apiToken)"
      ],
      "metadata": {
        "id": "iOvzJfe-VyI9"
      },
      "execution_count": null,
      "outputs": []
    },
    {
      "cell_type": "code",
      "source": [
        "print(conn.gsql('ls', options=[]))"
      ],
      "metadata": {
        "colab": {
          "base_uri": "https://localhost:8080/"
        },
        "id": "dq0fhgHEVyLL",
        "outputId": "9cd9e32d-9083-4dd6-9b99-db45c1b4c37e"
      },
      "execution_count": null,
      "outputs": [
        {
          "output_type": "stream",
          "name": "stdout",
          "text": [
            "---- Graph medialab\n",
            "Vertex Types:\n",
            "- VERTEX drug(PRIMARY_ID id STRING, canonicalSmiles STRING, inchiKey STRING, drugType STRING, blackBoxWarning STRING, name STRING, yearOfFirstApproval STRING, maximumClinicalTrialPhase STRING, parentId STRING, hasBeenWithdrawn STRING, isApproved STRING, withdrawnNotice STRING, tradeNames STRING, synonyms STRING, crossReferences STRING, childChemblIds STRING, linkedTargets STRING, linkedDiseases STRING, description STRING) WITH STATS=\"OUTDEGREE_BY_EDGETYPE\", PRIMARY_ID_AS_ATTRIBUTE=\"true\"\n",
            "- VERTEX _target(PRIMARY_ID id STRING, approvedSymbol STRING, biotype STRING, transcriptIds STRING, genomicLocation STRING, alternativeGenes STRING, approvedName STRING, go STRING, hallmarks STRING, synonyms STRING, symbolSynonyms STRING, nameSynonyms STRING, functionDescriptions STRING, subcellularLocations STRING, targetClass STRING, obsoleteSymbols STRING, obsoleteNames STRING, _constraint STRING, tep STRING, proteinIds STRING, dbXrefs STRING, chemicalProbes STRING, homologues STRING, tractability STRING, safetyLiabilities STRING, pathways STRING) WITH STATS=\"OUTDEGREE_BY_EDGETYPE\", PRIMARY_ID_AS_ATTRIBUTE=\"true\"\n",
            "- VERTEX disease(PRIMARY_ID id STRING, code STRING, dbXRefs STRING, description STRING, name STRING, directLocationIds STRING, obsoleteTerms STRING, parents STRING, sko STRING, synonyms STRING, ancestors STRING, descendants STRING, children STRING, therapeuticAreas STRING, indirectLocationIds STRING, ontology STRING) WITH STATS=\"OUTDEGREE_BY_EDGETYPE\", PRIMARY_ID_AS_ATTRIBUTE=\"true\"\n",
            "Edge Types:\n",
            "- UNDIRECTED EDGE disease_target(FROM disease, TO _target, score DOUBLE, evidenceCount INT)\n",
            "- UNDIRECTED EDGE drug_disease(FROM drug, TO disease, indications STRING, approvedIndications STRING, indicationCount INT, maxPhaseForIndication INT)\n",
            "- UNDIRECTED EDGE drug_target(FROM drug, TO _target, actionType STRING, mechanismOfAction STRING, targetName STRING, targetType STRING, references STRING)\n",
            "\n",
            "Graphs:\n",
            "- Graph medialab(drug:v, _target:v, disease:v, disease_target:e, drug_disease:e, drug_target:e)\n",
            "Jobs:\n",
            "- CREATE LOADING JOB load_job_disease1_csv_1650366667466 FOR GRAPH medialab {\n",
            "DEFINE FILENAME MyDataSource;\n",
            "LOAD MyDataSource TO VERTEX disease VALUES($1, $2, $3, $4, $5, $6, $7, $8, $9, $10, $11, $12, $13, $14, $15, $16) USING SEPARATOR=\"|\", HEADER=\"true\", EOL=\"\\n\";\n",
            "}\n",
            "\n",
            "- CREATE LOADING JOB load_job_disease_and_target_csv_1650366674890 FOR GRAPH medialab {\n",
            "DEFINE FILENAME MyDataSource;\n",
            "LOAD MyDataSource TO EDGE disease_target VALUES($1, $2, $3, $4) USING SEPARATOR=\"|\", HEADER=\"true\", EOL=\"\\n\";\n",
            "}\n",
            "\n",
            "- CREATE LOADING JOB load_job_drug1_csv_1650366688879 FOR GRAPH medialab {\n",
            "DEFINE FILENAME MyDataSource;\n",
            "LOAD MyDataSource TO VERTEX drug VALUES($1, $2, $3, $4, $5, $6, $7, $8, $9, $10, $11, $12, $13, $14, $15, $16, $17, $18, $19) USING SEPARATOR=\"|\", HEADER=\"true\", EOL=\"\\n\";\n",
            "}\n",
            "\n",
            "- CREATE LOADING JOB load_job_drug_disease1_csv_1650366699795 FOR GRAPH medialab {\n",
            "DEFINE FILENAME MyDataSource;\n",
            "LOAD MyDataSource TO EDGE drug_disease VALUES($1, $5, $2, $3, $4, $6) USING SEPARATOR=\"|\", HEADER=\"true\", EOL=\"\\n\";\n",
            "}\n",
            "\n",
            "- CREATE LOADING JOB load_job_drug_target1_csv_1650366714163 FOR GRAPH medialab {\n",
            "DEFINE FILENAME MyDataSource;\n",
            "LOAD MyDataSource TO EDGE drug_target VALUES($3, $6, $1, $2, $4, $5, $8) USING SEPARATOR=\"|\", HEADER=\"true\", EOL=\"\\n\";\n",
            "}\n",
            "\n",
            "- CREATE LOADING JOB load_job_target1_csv_1650366725478 FOR GRAPH medialab {\n",
            "DEFINE FILENAME MyDataSource;\n",
            "LOAD MyDataSource TO VERTEX _target VALUES($1, $2, $3, $4, $5, $6, $7, $8, $9, $10, $11, $12, $13, $14, $15, $16, $17, $18, $19, $20, $21, $22, $23, $24, $25, $26) USING SEPARATOR=\"|\", HEADER=\"true\", EOL=\"\\n\";\n",
            "}\n",
            "\n",
            "Queries:\n",
            "- by_disease_find_novel_drugs_from_drugs_of_similar_diseases(vertex<disease> d, float similarity) (installed v2)\n",
            "\n",
            "\n",
            "\n",
            "\n"
          ]
        }
      ]
    },
    {
      "cell_type": "markdown",
      "source": [
        "# Create graph schema"
      ],
      "metadata": {
        "id": "bmxoeeSNlMgI"
      }
    },
    {
      "cell_type": "code",
      "source": [
        "# change to True to delele graph data (for subsequent re-creation of Graph schema)\n",
        "\n",
        "if False:\n",
        "    print(conn.gsql('''\n",
        "    USE GRAPH medialab\n",
        "    DROP QUERY helloworld\n",
        "    DROP GRAPH medialab\n",
        "    DROP EDGE disease_target, drug_target, drug_disease\n",
        "    DROP VERTEX drug,_target,disease\n",
        "    DROP JOB tmp_job1\n",
        "    '''))"
      ],
      "metadata": {
        "id": "0Qu6Ltd9VyNZ"
      },
      "execution_count": null,
      "outputs": []
    },
    {
      "cell_type": "code",
      "source": [
        "print(conn.gsql('''\n",
        "CREATE GRAPH medialab()\n",
        "\n",
        "CREATE SCHEMA_CHANGE JOB medialab_schema_job FOR GRAPH medialab{\n",
        "ADD VERTEX drug (\n",
        "    PRIMARY_ID id                 STRING,\n",
        "    canonicalSmiles               STRING,\n",
        "    inchiKey                      STRING,\n",
        "    drugType                      STRING,\n",
        "    blackBoxWarning               STRING,\n",
        "    name                          STRING,\n",
        "    yearOfFirstApproval           STRING,\n",
        "    maximumClinicalTrialPhase     STRING,\n",
        "    parentId                      STRING,\n",
        "    hasBeenWithdrawn              STRING,\n",
        "    isApproved                    STRING,\n",
        "    withdrawnNotice               STRING,\n",
        "    tradeNames                    STRING,\n",
        "    synonyms                      STRING,\n",
        "    crossReferences               STRING,\n",
        "    childChemblIds                STRING,\n",
        "    linkedTargets                 STRING,\n",
        "    linkedDiseases                STRING,\n",
        "    description                   STRING) WITH primary_id_as_attribute=\"true\";\n",
        "\n",
        "ADD VERTEX _target(\n",
        "    PRIMARY_ID id           STRING,\n",
        "    approvedSymbol          STRING,\n",
        "    biotype                 STRING,\n",
        "    transcriptIds           STRING,\n",
        "    genomicLocation         STRING,\n",
        "    alternativeGenes        STRING,\n",
        "    approvedName            STRING,\n",
        "    go                      STRING,\n",
        "    hallmarks               STRING,\n",
        "    synonyms                STRING,\n",
        "    symbolSynonyms          STRING,\n",
        "    nameSynonyms            STRING,\n",
        "    functionDescriptions    STRING,\n",
        "    subcellularLocations    STRING,\n",
        "    targetClass             STRING,\n",
        "    obsoleteSymbols         STRING,\n",
        "    obsoleteNames           STRING,\n",
        "    _constraint             STRING,\n",
        "    tep                     STRING,\n",
        "    proteinIds              STRING,\n",
        "    dbXrefs                 STRING,\n",
        "    chemicalProbes          STRING,\n",
        "    homologues              STRING,\n",
        "    tractability            STRING,\n",
        "    safetyLiabilities       STRING,\n",
        "    pathways                STRING) WITH primary_id_as_attribute=\"true\";\n",
        "    \n",
        "    \n",
        "ADD VERTEX disease(\n",
        "    PRIMARY_ID id          STRING,\n",
        "    code                   STRING,\n",
        "    dbXRefs                STRING,\n",
        "    description            STRING,\n",
        "    name                   STRING,\n",
        "    directLocationIds      STRING,\n",
        "    obsoleteTerms          STRING,\n",
        "    parents                STRING,\n",
        "    sko                    STRING,\n",
        "    synonyms               STRING,\n",
        "    ancestors              STRING,\n",
        "    descendants            STRING,\n",
        "    children               STRING,\n",
        "    therapeuticAreas       STRING,\n",
        "    indirectLocationIds    STRING,\n",
        "    ontology               STRING) WITH primary_id_as_attribute=\"true\";\n",
        "\n",
        "ADD UNDIRECTED EDGE disease_target (FROM disease, TO _target, score DOUBLE, evidenceCount INT);\n",
        "ADD UNDIRECTED EDGE drug_disease (FROM drug, TO disease, \n",
        "    indications STRING, \n",
        "    approvedIndications STRING,\n",
        "    indicationCount INT,\n",
        "    maxPhaseForIndication INT);  //IF 4, mean approved drug for the disease\n",
        "    \n",
        "ADD UNDIRECTED EDGE drug_target (FROM drug, TO _target,\n",
        "\tactionType STRING,\n",
        "\tmechanismOfAction STRING, \n",
        "\t//chemblIds STRING,\n",
        "\ttargetName STRING,\n",
        "\ttargetType STRING,\n",
        "\t//targets STRING,\n",
        "\treferences STRING);\n",
        "\n",
        "}\n",
        "RUN SCHEMA_CHANGE JOB medialab_schema_job\n",
        "DROP JOB medialab_schema_job\n",
        "'''))"
      ],
      "metadata": {
        "colab": {
          "base_uri": "https://localhost:8080/"
        },
        "id": "HtQfziQeVyP3",
        "outputId": "2a0a71c9-2ce7-40dc-891d-3acfacf908cb"
      },
      "execution_count": null,
      "outputs": [
        {
          "output_type": "stream",
          "name": "stdout",
          "text": [
            "Stopping GPE GSE RESTPP\n",
            "Successfully stopped GPE GSE RESTPP in 22.225 seconds\n",
            "Starting GPE GSE RESTPP\n",
            "Successfully started GPE GSE RESTPP in 0.171 seconds\n",
            "The graph medialab is created.\n",
            "Successfully created schema change jobs: [medialab_schema_job].\n",
            "\n",
            "Current graph version 0\n",
            "Trying to add vertex drug.\n",
            "Trying to add vertex _target.\n",
            "Trying to add vertex disease.\n",
            "Trying to add edge disease_target.\n",
            "Trying to add edge drug_disease.\n",
            "Trying to add edge drug_target.\n",
            "Kick off job medialab_schema_job\n",
            "\n",
            "Graph medialab update to new version 1\n",
            "The job medialab_schema_job completes in 13.123 seconds!\n",
            "Successfully dropped jobs on the graph 'medialab': [medialab_schema_job].\n"
          ]
        }
      ]
    },
    {
      "cell_type": "markdown",
      "source": [
        "# Create and install GSQL query"
      ],
      "metadata": {
        "id": "cOvEWBtmlTcF"
      }
    },
    {
      "cell_type": "code",
      "source": [
        "print(conn.gsql('''\n",
        "USE GRAPH medialab\n",
        "DROP QUERY by_disease_find_novel_drugs_from_drugs_of_similar_diseases\n",
        "CREATE QUERY by_disease_find_novel_drugs_from_drugs_of_similar_diseases(vertex<disease> d, float similarity) FOR GRAPH medialab SYNTAX v2 { \n",
        "  /*****\n",
        "  * d input: \n",
        "  *     follicular lymphoma (disease: MONDO_0018906)\n",
        "  *     COVID-19 (disease: MONDO_0100096)\n",
        "  *     prostate cancer (disease:MONDO_0008315)\n",
        "  * similarity input:\n",
        "  *     1.0\n",
        "  * result: \n",
        "  *      found: drug (id: CHEMBL1201560, approvedPEGINTERFERON ALFA-2A\n",
        "\n",
        "  ******/\n",
        "  OrAccum<BOOL> @visited, @associatedDrugs;\n",
        "  SumAccum<double> @scoreByD, @lengthASqr, @lengthBSqr, @dotProductAB, @cosineSimilarity;\n",
        "  ListAccum<EDGE> @@edgeList;\n",
        "  \n",
        "  seed = {d};\n",
        "  \n",
        "  targetsScoredByDisease = SELECT t FROM seed:s-(disease_target:e)-_target:t \n",
        "            ACCUM t.@visited = true, t.@scoreByD = e.score;\n",
        "  \n",
        "  diseasesScoredSameTarget = SELECT tgt FROM targetsScoredByDisease:s-(disease_target:e)-disease:tgt\n",
        "    WHERE tgt !=  d\n",
        "    ACCUM tgt.@lengthASqr += s.@scoreByD * s.@scoreByD,\n",
        "          tgt.@lengthBSqr += e.score * e.score,\n",
        "          tgt.@dotProductAB += s.@scoreByD * e.score\n",
        "    POST-ACCUM\n",
        "          tgt.@cosineSimilarity =\n",
        "            tgt.@dotProductAB / (sqrt(tgt.@lengthASqr) * sqrt(tgt.@lengthBSqr))\n",
        "    HAVING tgt.@cosineSimilarity >= similarity\n",
        "    ORDER BY tgt.@cosineSimilarity DESC;\n",
        "    //LIMIT k1;\n",
        "    \n",
        "  approved_drugs = SELECT t FROM seed:s -(drug_disease:e)-:t \n",
        "        ACCUM t.@associatedDrugs = true;\n",
        "  \n",
        "  novel_drugs = SELECT t FROM diseasesScoredSameTarget:s-(drug_disease:e)-drug:t \n",
        "        WHERE t.@associatedDrugs == false;\n",
        "  \n",
        "  prioritized_drugs = SELECT s FROM novel_drugs:s-(drug_target:e1)-_target:t1-(disease_target:e2)-disease:t2  \n",
        "        WHERE t2 == d and e2.score > 0.5 \n",
        "        ACCUM @@edgeList += e1, @@edgeList += e2; \n",
        "        //ORDER BY e2.score DESC;\n",
        "  \n",
        "  PRINT @@edgeList;\n",
        "  /* PRINT targetsScoredByDisease;\n",
        "  PRINT diseasesScoredSameTarget;\n",
        "  PRINT novel_drugs;\n",
        "  PRINT prioritized_drugs;\n",
        "  */\n",
        "}\n",
        "INSTALL QUERY by_disease_find_novel_drugs_from_drugs_of_similar_diseases\n",
        "'''))"
      ],
      "metadata": {
        "colab": {
          "base_uri": "https://localhost:8080/"
        },
        "id": "uhhyax_HVySX",
        "outputId": "2310a381-1027-45b8-cc15-b80dc61918cb"
      },
      "execution_count": null,
      "outputs": [
        {
          "output_type": "stream",
          "name": "stdout",
          "text": [
            "Using graph 'medialab'\n",
            "Semantic Check Fails: These queries could not be found anywhere: [by_disease_find_novel_drugs_from_drugs_of_similar_diseases].\n",
            "Successfully created queries: [by_disease_find_novel_drugs_from_drugs_of_similar_diseases].\n",
            "Start installing queries, about 1 minute ...\n",
            "by_disease_find_novel_drugs_from_drugs_of_similar_diseases query: curl -X GET 'https://127.0.0.1:9000/query/medialab/by_disease_find_novel_drugs_from_drugs_of_similar_diseases?d=VALUE&similarity=VALUE'. Add -H \"Authorization: Bearer TOKEN\" if authentication is enabled.\n",
            "Select 'm1' as compile server, now connecting ...\n",
            "Node 'm1' is prepared as compile server.\n",
            "\n",
            "Query installation finished.\n"
          ]
        }
      ]
    },
    {
      "cell_type": "code",
      "source": [
        ""
      ],
      "metadata": {
        "id": "_3er15pRjYKK"
      },
      "execution_count": null,
      "outputs": []
    },
    {
      "cell_type": "markdown",
      "source": [
        "# Query tigergraph database"
      ],
      "metadata": {
        "id": "U1K1P9vglXLV"
      }
    },
    {
      "cell_type": "code",
      "source": [
        "df = conn.runInstalledQuery('by_disease_find_novel_drugs_from_drugs_of_similar_diseases', {'d':'MONDO_0008315', 'similarity': 1.0})"
      ],
      "metadata": {
        "id": "F6oh_nyPlZ8l"
      },
      "execution_count": null,
      "outputs": []
    },
    {
      "cell_type": "code",
      "source": [
        ""
      ],
      "metadata": {
        "id": "46nmRqW0lZ_P"
      },
      "execution_count": null,
      "outputs": []
    },
    {
      "cell_type": "code",
      "source": [
        ""
      ],
      "metadata": {
        "id": "5mttih6SlaCZ"
      },
      "execution_count": null,
      "outputs": []
    },
    {
      "cell_type": "code",
      "source": [
        ""
      ],
      "metadata": {
        "id": "0riRyH85kMRf"
      },
      "execution_count": null,
      "outputs": []
    }
  ]
}